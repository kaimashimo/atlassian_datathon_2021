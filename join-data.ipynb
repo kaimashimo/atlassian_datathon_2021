{
 "cells": [
  {
   "cell_type": "code",
   "execution_count": 1,
   "id": "955634ff-145f-4014-b9b9-5344e4a57bcb",
   "metadata": {},
   "outputs": [],
   "source": [
    "import pandas as pd\n",
    "from fuzzywuzzy import fuzz\n",
    "from fuzzywuzzy import process\n",
    "import swifter\n",
    "from tqdm import tqdm"
   ]
  },
  {
   "cell_type": "code",
   "execution_count": 2,
   "id": "27fb7191-ce56-4eab-9e49-fdea2f7ec689",
   "metadata": {},
   "outputs": [],
   "source": [
    "def to_lastname(name):\n",
    "    names_split = name.split(' ')\n",
    "    if len(names_split) == 1:\n",
    "        return name\n",
    "    return ' '.join(names_split[1:])"
   ]
  },
  {
   "cell_type": "code",
   "execution_count": 3,
   "id": "bb63d3e0-08d7-474f-9030-d6062b704135",
   "metadata": {},
   "outputs": [],
   "source": [
    "def fuzzy_merge(df_1, df_2, key1, key2, threshold=90, limit=2):\n",
    "    \"\"\"\n",
    "    :param df_1: the left table to join\n",
    "    :param df_2: the right table to join\n",
    "    :param key1: key column of the left table\n",
    "    :param key2: key column of the right table\n",
    "    :param threshold: how close the matches should be to return a match, based on Levenshtein distance\n",
    "    :param limit: the amount of matches that will get returned, these are sorted high to low\n",
    "    :return: dataframe with boths keys and matches\n",
    "    \"\"\"\n",
    "    s = df_2[key2].tolist()\n",
    "\n",
    "    m = df_1[key1].swifter.apply(lambda x: process.extract(x, s, limit=limit))\n",
    "    df_1['matches'] = m\n",
    "\n",
    "    m2 = df_1['matches'].swifter.apply(lambda x: ', '.join([i[0] for i in x if i[1] >= threshold]))\n",
    "    df_1['matches'] = m2\n",
    "\n",
    "    return df_1"
   ]
  },
  {
   "cell_type": "code",
   "execution_count": 4,
   "id": "3cfadc40-86ff-44fd-8b4e-f39836c8879a",
   "metadata": {},
   "outputs": [],
   "source": [
    "def merge_csv(country):\n",
    "    fifa_players = pd.read_csv('fifa21-players-cleaned.csv')\n",
    "    country_players = pd.read_csv(f'teams/{country}.csv')\n",
    "\n",
    "    # pull out last names\n",
    "    fifa_players.Name = fifa_players.Name.apply(to_lastname, 1)\n",
    "    country_players.Player = country_players.Player.apply(to_lastname, 1)\n",
    "\n",
    "    # create string_index to compare on\n",
    "    country_players['string_index'] = country_players.Player + ' ' + country_players.Club\n",
    "    fifa_players['string_index'] = fifa_players.Name + ' ' + fifa_players.Club\n",
    "\n",
    "    # merge country players with fifa stats\n",
    "    new_merge = fuzzy_merge(country_players, fifa_players, 'string_index', 'string_index')\n",
    "    new_merge.merge(fifa_players, how='left', left_on='matches', right_on='string_index').to_csv(f'team-stats/{country}.csv')"
   ]
  },
  {
   "cell_type": "code",
   "execution_count": 5,
   "id": "6eee7dca-a666-4302-be81-49a0128a334a",
   "metadata": {},
   "outputs": [
    {
     "name": "stderr",
     "output_type": "stream",
     "text": [
      "  0%|                                         | 0/2 [00:00<?, ?it/s]"
     ]
    },
    {
     "data": {
      "application/vnd.jupyter.widget-view+json": {
       "model_id": "ab09d4ffeaa542519ce27ee157c6f4af",
       "version_major": 2,
       "version_minor": 0
      },
      "text/plain": [
       "Pandas Apply:   0%|          | 0/28 [00:00<?, ?it/s]"
      ]
     },
     "metadata": {},
     "output_type": "display_data"
    },
    {
     "data": {
      "application/vnd.jupyter.widget-view+json": {
       "model_id": "a902656f888941268b2fdaea172da5bc",
       "version_major": 2,
       "version_minor": 0
      },
      "text/plain": [
       "Pandas Apply:   0%|          | 0/28 [00:00<?, ?it/s]"
      ]
     },
     "metadata": {},
     "output_type": "display_data"
    },
    {
     "name": "stderr",
     "output_type": "stream",
     "text": [
      " 50%|████████████████▌                | 1/2 [00:16<00:16, 16.73s/it]"
     ]
    },
    {
     "data": {
      "application/vnd.jupyter.widget-view+json": {
       "model_id": "17142490b03a40a2a27d09561d48460e",
       "version_major": 2,
       "version_minor": 0
      },
      "text/plain": [
       "Pandas Apply:   0%|          | 0/23 [00:00<?, ?it/s]"
      ]
     },
     "metadata": {},
     "output_type": "display_data"
    },
    {
     "data": {
      "application/vnd.jupyter.widget-view+json": {
       "model_id": "439a5ac28bcb42c1ab12a04d62863a4f",
       "version_major": 2,
       "version_minor": 0
      },
      "text/plain": [
       "Pandas Apply:   0%|          | 0/23 [00:00<?, ?it/s]"
      ]
     },
     "metadata": {},
     "output_type": "display_data"
    },
    {
     "name": "stderr",
     "output_type": "stream",
     "text": [
      "100%|█████████████████████████████████| 2/2 [00:30<00:00, 15.39s/it]\n"
     ]
    }
   ],
   "source": [
    "import os\n",
    "\n",
    "countries = [f[:-4] for f in os.listdir('teams')[1:]]\n",
    "for country in tqdm(countries[:2]):\n",
    "    merge_csv(country)"
   ]
  },
  {
   "cell_type": "code",
   "execution_count": null,
   "id": "21550163-bcca-43f4-a026-147db2453c15",
   "metadata": {},
   "outputs": [],
   "source": []
  }
 ],
 "metadata": {
  "kernelspec": {
   "display_name": "Python 3 (ipykernel)",
   "language": "python",
   "name": "python3"
  },
  "language_info": {
   "codemirror_mode": {
    "name": "ipython",
    "version": 3
   },
   "file_extension": ".py",
   "mimetype": "text/x-python",
   "name": "python",
   "nbconvert_exporter": "python",
   "pygments_lexer": "ipython3",
   "version": "3.8.10"
  }
 },
 "nbformat": 4,
 "nbformat_minor": 5
}
