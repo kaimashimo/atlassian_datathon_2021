{
 "cells": [
  {
   "cell_type": "code",
   "execution_count": 21,
   "metadata": {},
   "outputs": [],
   "source": [
    "import pandas as pd\n",
    "import numpy as np"
   ]
  },
  {
   "cell_type": "code",
   "execution_count": 2,
   "metadata": {},
   "outputs": [],
   "source": [
    "win_rates = pd.read_csv('win_rates.csv')\n",
    "country_aggs = pd.read_csv('country_aggs_detail.csv')"
   ]
  },
  {
   "cell_type": "code",
   "execution_count": 9,
   "metadata": {},
   "outputs": [],
   "source": [
    "win_rates['home_team'] = win_rates['home_team'].str.lower()"
   ]
  },
  {
   "cell_type": "code",
   "execution_count": 14,
   "metadata": {},
   "outputs": [],
   "source": [
    "df = country_aggs.merge(win_rates, left_on='Country', right_on=('home_team'))"
   ]
  },
  {
   "cell_type": "code",
   "execution_count": 16,
   "metadata": {},
   "outputs": [
    {
     "data": {
      "text/html": [
       "<div>\n",
       "<style scoped>\n",
       "    .dataframe tbody tr th:only-of-type {\n",
       "        vertical-align: middle;\n",
       "    }\n",
       "\n",
       "    .dataframe tbody tr th {\n",
       "        vertical-align: top;\n",
       "    }\n",
       "\n",
       "    .dataframe thead th {\n",
       "        text-align: right;\n",
       "    }\n",
       "</style>\n",
       "<table border=\"1\" class=\"dataframe\">\n",
       "  <thead>\n",
       "    <tr style=\"text-align: right;\">\n",
       "      <th></th>\n",
       "      <th>Unnamed: 0</th>\n",
       "      <th>Overall</th>\n",
       "      <th>Release Clause</th>\n",
       "      <th>Country</th>\n",
       "      <th>Region</th>\n",
       "      <th>home_team</th>\n",
       "      <th>home_wins</th>\n",
       "    </tr>\n",
       "  </thead>\n",
       "  <tbody>\n",
       "    <tr>\n",
       "      <th>0</th>\n",
       "      <td>0</td>\n",
       "      <td>66.0</td>\n",
       "      <td>1.0345</td>\n",
       "      <td>afghanistan</td>\n",
       "      <td>AFC</td>\n",
       "      <td>afghanistan</td>\n",
       "      <td>0.621622</td>\n",
       "    </tr>\n",
       "    <tr>\n",
       "      <th>1</th>\n",
       "      <td>1</td>\n",
       "      <td>69.5</td>\n",
       "      <td>3.0000</td>\n",
       "      <td>albania</td>\n",
       "      <td>UEFA</td>\n",
       "      <td>albania</td>\n",
       "      <td>0.594771</td>\n",
       "    </tr>\n",
       "    <tr>\n",
       "      <th>2</th>\n",
       "      <td>2</td>\n",
       "      <td>73.5</td>\n",
       "      <td>10.1500</td>\n",
       "      <td>algeria</td>\n",
       "      <td>CAF</td>\n",
       "      <td>algeria</td>\n",
       "      <td>0.809129</td>\n",
       "    </tr>\n",
       "    <tr>\n",
       "      <th>3</th>\n",
       "      <td>3</td>\n",
       "      <td>75.0</td>\n",
       "      <td>11.8000</td>\n",
       "      <td>angola</td>\n",
       "      <td>CAF</td>\n",
       "      <td>angola</td>\n",
       "      <td>0.808140</td>\n",
       "    </tr>\n",
       "    <tr>\n",
       "      <th>4</th>\n",
       "      <td>5</td>\n",
       "      <td>79.0</td>\n",
       "      <td>25.7000</td>\n",
       "      <td>argentina</td>\n",
       "      <td>CONMEBOL</td>\n",
       "      <td>argentina</td>\n",
       "      <td>0.875000</td>\n",
       "    </tr>\n",
       "  </tbody>\n",
       "</table>\n",
       "</div>"
      ],
      "text/plain": [
       "   Unnamed: 0  Overall  Release Clause      Country    Region    home_team  \\\n",
       "0           0     66.0          1.0345  afghanistan       AFC  afghanistan   \n",
       "1           1     69.5          3.0000      albania      UEFA      albania   \n",
       "2           2     73.5         10.1500      algeria       CAF      algeria   \n",
       "3           3     75.0         11.8000       angola       CAF       angola   \n",
       "4           5     79.0         25.7000    argentina  CONMEBOL    argentina   \n",
       "\n",
       "   home_wins  \n",
       "0   0.621622  \n",
       "1   0.594771  \n",
       "2   0.809129  \n",
       "3   0.808140  \n",
       "4   0.875000  "
      ]
     },
     "execution_count": 16,
     "metadata": {},
     "output_type": "execute_result"
    }
   ],
   "source": [
    "df.head()"
   ]
  },
  {
   "cell_type": "code",
   "execution_count": 17,
   "metadata": {},
   "outputs": [],
   "source": [
    "df = df[['Country','Region','Overall','home_wins','Release Clause']]"
   ]
  },
  {
   "cell_type": "code",
   "execution_count": 23,
   "metadata": {},
   "outputs": [],
   "source": [
    "from sklearn.preprocessing import StandardScaler\n",
    "\n",
    "def scale(j,col_name):\n",
    "\n",
    "    scaler = StandardScaler()\n",
    "    scaler.fit(np.array(j[col_name]).reshape(-1, 1))\n",
    "    j[col_name] = scaler.transform(np.array(j[col_name]).reshape(-1, 1))\n"
   ]
  },
  {
   "cell_type": "code",
   "execution_count": 24,
   "metadata": {},
   "outputs": [],
   "source": [
    "scale(df,'Overall')\n",
    "scale(df,'home_wins')\n",
    "scale(df,'Release Clause')"
   ]
  },
  {
   "cell_type": "code",
   "execution_count": 25,
   "metadata": {},
   "outputs": [
    {
     "data": {
      "text/html": [
       "<div>\n",
       "<style scoped>\n",
       "    .dataframe tbody tr th:only-of-type {\n",
       "        vertical-align: middle;\n",
       "    }\n",
       "\n",
       "    .dataframe tbody tr th {\n",
       "        vertical-align: top;\n",
       "    }\n",
       "\n",
       "    .dataframe thead th {\n",
       "        text-align: right;\n",
       "    }\n",
       "</style>\n",
       "<table border=\"1\" class=\"dataframe\">\n",
       "  <thead>\n",
       "    <tr style=\"text-align: right;\">\n",
       "      <th></th>\n",
       "      <th>Country</th>\n",
       "      <th>Region</th>\n",
       "      <th>Overall</th>\n",
       "      <th>home_wins</th>\n",
       "      <th>Release Clause</th>\n",
       "    </tr>\n",
       "  </thead>\n",
       "  <tbody>\n",
       "    <tr>\n",
       "      <th>0</th>\n",
       "      <td>afghanistan</td>\n",
       "      <td>AFC</td>\n",
       "      <td>-0.917454</td>\n",
       "      <td>-0.765408</td>\n",
       "      <td>-0.722191</td>\n",
       "    </tr>\n",
       "    <tr>\n",
       "      <th>1</th>\n",
       "      <td>albania</td>\n",
       "      <td>UEFA</td>\n",
       "      <td>-0.263559</td>\n",
       "      <td>-0.984285</td>\n",
       "      <td>-0.534790</td>\n",
       "    </tr>\n",
       "    <tr>\n",
       "      <th>2</th>\n",
       "      <td>algeria</td>\n",
       "      <td>CAF</td>\n",
       "      <td>0.483748</td>\n",
       "      <td>0.763100</td>\n",
       "      <td>0.146927</td>\n",
       "    </tr>\n",
       "    <tr>\n",
       "      <th>3</th>\n",
       "      <td>angola</td>\n",
       "      <td>CAF</td>\n",
       "      <td>0.763989</td>\n",
       "      <td>0.755037</td>\n",
       "      <td>0.304246</td>\n",
       "    </tr>\n",
       "    <tr>\n",
       "      <th>4</th>\n",
       "      <td>argentina</td>\n",
       "      <td>CONMEBOL</td>\n",
       "      <td>1.511296</td>\n",
       "      <td>1.300066</td>\n",
       "      <td>1.629542</td>\n",
       "    </tr>\n",
       "    <tr>\n",
       "      <th>...</th>\n",
       "      <td>...</td>\n",
       "      <td>...</td>\n",
       "      <td>...</td>\n",
       "      <td>...</td>\n",
       "      <td>...</td>\n",
       "    </tr>\n",
       "    <tr>\n",
       "      <th>79</th>\n",
       "      <td>ukraine</td>\n",
       "      <td>UEFA</td>\n",
       "      <td>0.577162</td>\n",
       "      <td>0.836899</td>\n",
       "      <td>0.218436</td>\n",
       "    </tr>\n",
       "    <tr>\n",
       "      <th>80</th>\n",
       "      <td>uruguay</td>\n",
       "      <td>CONMEBOL</td>\n",
       "      <td>1.417883</td>\n",
       "      <td>1.272821</td>\n",
       "      <td>1.267231</td>\n",
       "    </tr>\n",
       "    <tr>\n",
       "      <th>81</th>\n",
       "      <td>venezuela</td>\n",
       "      <td>CONMEBOL</td>\n",
       "      <td>-0.263559</td>\n",
       "      <td>-0.698168</td>\n",
       "      <td>-0.558627</td>\n",
       "    </tr>\n",
       "    <tr>\n",
       "      <th>82</th>\n",
       "      <td>wales</td>\n",
       "      <td>UEFA</td>\n",
       "      <td>0.203508</td>\n",
       "      <td>-0.212562</td>\n",
       "      <td>-0.172479</td>\n",
       "    </tr>\n",
       "    <tr>\n",
       "      <th>83</th>\n",
       "      <td>zimbabwe</td>\n",
       "      <td>CAF</td>\n",
       "      <td>-0.356973</td>\n",
       "      <td>0.871979</td>\n",
       "      <td>-0.544325</td>\n",
       "    </tr>\n",
       "  </tbody>\n",
       "</table>\n",
       "<p>84 rows × 5 columns</p>\n",
       "</div>"
      ],
      "text/plain": [
       "        Country    Region   Overall  home_wins  Release Clause\n",
       "0   afghanistan       AFC -0.917454  -0.765408       -0.722191\n",
       "1       albania      UEFA -0.263559  -0.984285       -0.534790\n",
       "2       algeria       CAF  0.483748   0.763100        0.146927\n",
       "3        angola       CAF  0.763989   0.755037        0.304246\n",
       "4     argentina  CONMEBOL  1.511296   1.300066        1.629542\n",
       "..          ...       ...       ...        ...             ...\n",
       "79      ukraine      UEFA  0.577162   0.836899        0.218436\n",
       "80      uruguay  CONMEBOL  1.417883   1.272821        1.267231\n",
       "81    venezuela  CONMEBOL -0.263559  -0.698168       -0.558627\n",
       "82        wales      UEFA  0.203508  -0.212562       -0.172479\n",
       "83     zimbabwe       CAF -0.356973   0.871979       -0.544325\n",
       "\n",
       "[84 rows x 5 columns]"
      ]
     },
     "execution_count": 25,
     "metadata": {},
     "output_type": "execute_result"
    }
   ],
   "source": [
    "df"
   ]
  },
  {
   "cell_type": "code",
   "execution_count": 26,
   "metadata": {},
   "outputs": [],
   "source": [
    "df['value'] = df.Overall + df.home_wins + df['Release Clause']"
   ]
  },
  {
   "cell_type": "code",
   "execution_count": 27,
   "metadata": {},
   "outputs": [],
   "source": [
    "df = df.rename(columns={'Country':'country', 'Region':'region', 'value':'value'})"
   ]
  },
  {
   "cell_type": "code",
   "execution_count": 29,
   "metadata": {},
   "outputs": [],
   "source": [
    "df = df[['country','region','value']]"
   ]
  },
  {
   "cell_type": "code",
   "execution_count": 32,
   "metadata": {},
   "outputs": [],
   "source": [
    "df.to_csv('countries_fifascore_price_winrate.csv',index=False)"
   ]
  },
  {
   "cell_type": "code",
   "execution_count": 34,
   "metadata": {},
   "outputs": [
    {
     "data": {
      "text/plain": [
       "UEFA        41\n",
       "CONCACAF    16\n",
       "CAF         13\n",
       "CONMEBOL    10\n",
       "AFC          4\n",
       "Name: Region, dtype: int64"
      ]
     },
     "execution_count": 34,
     "metadata": {},
     "output_type": "execute_result"
    }
   ],
   "source": [
    "country_aggs.Region.value_counts()"
   ]
  },
  {
   "cell_type": "code",
   "execution_count": null,
   "metadata": {},
   "outputs": [],
   "source": []
  }
 ],
 "metadata": {
  "kernelspec": {
   "display_name": "Python 3",
   "language": "python",
   "name": "python3"
  },
  "language_info": {
   "codemirror_mode": {
    "name": "ipython",
    "version": 3
   },
   "file_extension": ".py",
   "mimetype": "text/x-python",
   "name": "python",
   "nbconvert_exporter": "python",
   "pygments_lexer": "ipython3",
   "version": "3.8.0"
  }
 },
 "nbformat": 4,
 "nbformat_minor": 4
}
