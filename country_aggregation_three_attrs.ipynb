{
 "cells": [
  {
   "cell_type": "code",
   "execution_count": 1,
   "metadata": {},
   "outputs": [],
   "source": [
    "import pandas as pd\n",
    "import numpy as np"
   ]
  },
  {
   "cell_type": "code",
   "execution_count": 6,
   "metadata": {},
   "outputs": [],
   "source": [
    "win_rates = pd.read_csv('win_rates.csv')\n",
    "country_aggs = pd.read_csv('fuller_countries.csv')"
   ]
  },
  {
   "cell_type": "code",
   "execution_count": 7,
   "metadata": {},
   "outputs": [
    {
     "data": {
      "text/html": [
       "<div>\n",
       "<style scoped>\n",
       "    .dataframe tbody tr th:only-of-type {\n",
       "        vertical-align: middle;\n",
       "    }\n",
       "\n",
       "    .dataframe tbody tr th {\n",
       "        vertical-align: top;\n",
       "    }\n",
       "\n",
       "    .dataframe thead th {\n",
       "        text-align: right;\n",
       "    }\n",
       "</style>\n",
       "<table border=\"1\" class=\"dataframe\">\n",
       "  <thead>\n",
       "    <tr style=\"text-align: right;\">\n",
       "      <th></th>\n",
       "      <th>Overall</th>\n",
       "      <th>Release Clause</th>\n",
       "      <th>Country</th>\n",
       "      <th>Region</th>\n",
       "    </tr>\n",
       "  </thead>\n",
       "  <tbody>\n",
       "    <tr>\n",
       "      <th>0</th>\n",
       "      <td>66.0</td>\n",
       "      <td>1.0345</td>\n",
       "      <td>afghanistan</td>\n",
       "      <td>AFC</td>\n",
       "    </tr>\n",
       "    <tr>\n",
       "      <th>1</th>\n",
       "      <td>69.0</td>\n",
       "      <td>2.6000</td>\n",
       "      <td>albania</td>\n",
       "      <td>UEFA</td>\n",
       "    </tr>\n",
       "    <tr>\n",
       "      <th>2</th>\n",
       "      <td>73.5</td>\n",
       "      <td>10.1500</td>\n",
       "      <td>algeria</td>\n",
       "      <td>CAF</td>\n",
       "    </tr>\n",
       "    <tr>\n",
       "      <th>3</th>\n",
       "      <td>75.0</td>\n",
       "      <td>11.8000</td>\n",
       "      <td>angola</td>\n",
       "      <td>CAF</td>\n",
       "    </tr>\n",
       "    <tr>\n",
       "      <th>4</th>\n",
       "      <td>63.0</td>\n",
       "      <td>0.5250</td>\n",
       "      <td>antigua-and-barbuda</td>\n",
       "      <td>CONCACAF</td>\n",
       "    </tr>\n",
       "    <tr>\n",
       "      <th>...</th>\n",
       "      <td>...</td>\n",
       "      <td>...</td>\n",
       "      <td>...</td>\n",
       "      <td>...</td>\n",
       "    </tr>\n",
       "    <tr>\n",
       "      <th>115</th>\n",
       "      <td>75.0</td>\n",
       "      <td>11.5000</td>\n",
       "      <td>united-states</td>\n",
       "      <td>CONCACAF</td>\n",
       "    </tr>\n",
       "    <tr>\n",
       "      <th>116</th>\n",
       "      <td>79.5</td>\n",
       "      <td>23.7500</td>\n",
       "      <td>uruguay</td>\n",
       "      <td>CONMEBOL</td>\n",
       "    </tr>\n",
       "    <tr>\n",
       "      <th>117</th>\n",
       "      <td>69.5</td>\n",
       "      <td>2.7500</td>\n",
       "      <td>venezuela</td>\n",
       "      <td>CONMEBOL</td>\n",
       "    </tr>\n",
       "    <tr>\n",
       "      <th>118</th>\n",
       "      <td>72.5</td>\n",
       "      <td>7.9500</td>\n",
       "      <td>wales</td>\n",
       "      <td>UEFA</td>\n",
       "    </tr>\n",
       "    <tr>\n",
       "      <th>119</th>\n",
       "      <td>69.0</td>\n",
       "      <td>2.9000</td>\n",
       "      <td>zimbabwe</td>\n",
       "      <td>CAF</td>\n",
       "    </tr>\n",
       "  </tbody>\n",
       "</table>\n",
       "<p>120 rows × 4 columns</p>\n",
       "</div>"
      ],
      "text/plain": [
       "     Overall  Release Clause              Country    Region\n",
       "0       66.0          1.0345          afghanistan       AFC\n",
       "1       69.0          2.6000              albania      UEFA\n",
       "2       73.5         10.1500              algeria       CAF\n",
       "3       75.0         11.8000               angola       CAF\n",
       "4       63.0          0.5250  antigua-and-barbuda  CONCACAF\n",
       "..       ...             ...                  ...       ...\n",
       "115     75.0         11.5000        united-states  CONCACAF\n",
       "116     79.5         23.7500              uruguay  CONMEBOL\n",
       "117     69.5          2.7500            venezuela  CONMEBOL\n",
       "118     72.5          7.9500                wales      UEFA\n",
       "119     69.0          2.9000             zimbabwe       CAF\n",
       "\n",
       "[120 rows x 4 columns]"
      ]
     },
     "execution_count": 7,
     "metadata": {},
     "output_type": "execute_result"
    }
   ],
   "source": [
    "country_aggs"
   ]
  },
  {
   "cell_type": "code",
   "execution_count": 5,
   "metadata": {},
   "outputs": [
    {
     "data": {
      "text/html": [
       "<div>\n",
       "<style scoped>\n",
       "    .dataframe tbody tr th:only-of-type {\n",
       "        vertical-align: middle;\n",
       "    }\n",
       "\n",
       "    .dataframe tbody tr th {\n",
       "        vertical-align: top;\n",
       "    }\n",
       "\n",
       "    .dataframe thead th {\n",
       "        text-align: right;\n",
       "    }\n",
       "</style>\n",
       "<table border=\"1\" class=\"dataframe\">\n",
       "  <thead>\n",
       "    <tr style=\"text-align: right;\">\n",
       "      <th></th>\n",
       "      <th>home_team</th>\n",
       "      <th>home_wins</th>\n",
       "    </tr>\n",
       "  </thead>\n",
       "  <tbody>\n",
       "    <tr>\n",
       "      <th>0</th>\n",
       "      <td>Abkhazia</td>\n",
       "      <td>0.888889</td>\n",
       "    </tr>\n",
       "    <tr>\n",
       "      <th>1</th>\n",
       "      <td>Afghanistan</td>\n",
       "      <td>0.621622</td>\n",
       "    </tr>\n",
       "    <tr>\n",
       "      <th>2</th>\n",
       "      <td>Albania</td>\n",
       "      <td>0.594771</td>\n",
       "    </tr>\n",
       "    <tr>\n",
       "      <th>3</th>\n",
       "      <td>Alderney</td>\n",
       "      <td>0.000000</td>\n",
       "    </tr>\n",
       "    <tr>\n",
       "      <th>4</th>\n",
       "      <td>Algeria</td>\n",
       "      <td>0.809129</td>\n",
       "    </tr>\n",
       "    <tr>\n",
       "      <th>...</th>\n",
       "      <td>...</td>\n",
       "      <td>...</td>\n",
       "    </tr>\n",
       "    <tr>\n",
       "      <th>298</th>\n",
       "      <td>Yugoslavia</td>\n",
       "      <td>0.805556</td>\n",
       "    </tr>\n",
       "    <tr>\n",
       "      <th>299</th>\n",
       "      <td>Zambia</td>\n",
       "      <td>0.849138</td>\n",
       "    </tr>\n",
       "    <tr>\n",
       "      <th>300</th>\n",
       "      <td>Zanzibar</td>\n",
       "      <td>0.540541</td>\n",
       "    </tr>\n",
       "    <tr>\n",
       "      <th>301</th>\n",
       "      <td>Zimbabwe</td>\n",
       "      <td>0.822485</td>\n",
       "    </tr>\n",
       "    <tr>\n",
       "      <th>302</th>\n",
       "      <td>Åland Islands</td>\n",
       "      <td>0.666667</td>\n",
       "    </tr>\n",
       "  </tbody>\n",
       "</table>\n",
       "<p>303 rows × 2 columns</p>\n",
       "</div>"
      ],
      "text/plain": [
       "         home_team  home_wins\n",
       "0         Abkhazia   0.888889\n",
       "1      Afghanistan   0.621622\n",
       "2          Albania   0.594771\n",
       "3         Alderney   0.000000\n",
       "4          Algeria   0.809129\n",
       "..             ...        ...\n",
       "298     Yugoslavia   0.805556\n",
       "299         Zambia   0.849138\n",
       "300       Zanzibar   0.540541\n",
       "301       Zimbabwe   0.822485\n",
       "302  Åland Islands   0.666667\n",
       "\n",
       "[303 rows x 2 columns]"
      ]
     },
     "execution_count": 5,
     "metadata": {},
     "output_type": "execute_result"
    }
   ],
   "source": [
    "win_rates"
   ]
  },
  {
   "cell_type": "code",
   "execution_count": 9,
   "metadata": {},
   "outputs": [],
   "source": [
    "win_rates['home_team'] = win_rates['home_team'].str.lower()\n",
    "win_rates['home_team'] = win_rates['home_team'].str.replace(' ','-')"
   ]
  },
  {
   "cell_type": "code",
   "execution_count": 10,
   "metadata": {},
   "outputs": [],
   "source": [
    "df = country_aggs.merge(win_rates, left_on='Country', right_on=('home_team'))"
   ]
  },
  {
   "cell_type": "code",
   "execution_count": 11,
   "metadata": {},
   "outputs": [
    {
     "data": {
      "text/html": [
       "<div>\n",
       "<style scoped>\n",
       "    .dataframe tbody tr th:only-of-type {\n",
       "        vertical-align: middle;\n",
       "    }\n",
       "\n",
       "    .dataframe tbody tr th {\n",
       "        vertical-align: top;\n",
       "    }\n",
       "\n",
       "    .dataframe thead th {\n",
       "        text-align: right;\n",
       "    }\n",
       "</style>\n",
       "<table border=\"1\" class=\"dataframe\">\n",
       "  <thead>\n",
       "    <tr style=\"text-align: right;\">\n",
       "      <th></th>\n",
       "      <th>Overall</th>\n",
       "      <th>Release Clause</th>\n",
       "      <th>Country</th>\n",
       "      <th>Region</th>\n",
       "      <th>home_team</th>\n",
       "      <th>home_wins</th>\n",
       "    </tr>\n",
       "  </thead>\n",
       "  <tbody>\n",
       "    <tr>\n",
       "      <th>0</th>\n",
       "      <td>66.0</td>\n",
       "      <td>1.0345</td>\n",
       "      <td>afghanistan</td>\n",
       "      <td>AFC</td>\n",
       "      <td>afghanistan</td>\n",
       "      <td>0.609756</td>\n",
       "    </tr>\n",
       "    <tr>\n",
       "      <th>1</th>\n",
       "      <td>69.0</td>\n",
       "      <td>2.6000</td>\n",
       "      <td>albania</td>\n",
       "      <td>UEFA</td>\n",
       "      <td>albania</td>\n",
       "      <td>0.598901</td>\n",
       "    </tr>\n",
       "    <tr>\n",
       "      <th>2</th>\n",
       "      <td>73.5</td>\n",
       "      <td>10.1500</td>\n",
       "      <td>algeria</td>\n",
       "      <td>CAF</td>\n",
       "      <td>algeria</td>\n",
       "      <td>0.801347</td>\n",
       "    </tr>\n",
       "    <tr>\n",
       "      <th>3</th>\n",
       "      <td>75.0</td>\n",
       "      <td>11.8000</td>\n",
       "      <td>angola</td>\n",
       "      <td>CAF</td>\n",
       "      <td>angola</td>\n",
       "      <td>0.801136</td>\n",
       "    </tr>\n",
       "    <tr>\n",
       "      <th>4</th>\n",
       "      <td>63.0</td>\n",
       "      <td>0.5250</td>\n",
       "      <td>antigua-and-barbuda</td>\n",
       "      <td>CONCACAF</td>\n",
       "      <td>antigua-and-barbuda</td>\n",
       "      <td>0.621622</td>\n",
       "    </tr>\n",
       "  </tbody>\n",
       "</table>\n",
       "</div>"
      ],
      "text/plain": [
       "   Overall  Release Clause              Country    Region  \\\n",
       "0     66.0          1.0345          afghanistan       AFC   \n",
       "1     69.0          2.6000              albania      UEFA   \n",
       "2     73.5         10.1500              algeria       CAF   \n",
       "3     75.0         11.8000               angola       CAF   \n",
       "4     63.0          0.5250  antigua-and-barbuda  CONCACAF   \n",
       "\n",
       "             home_team  home_wins  \n",
       "0          afghanistan   0.609756  \n",
       "1              albania   0.598901  \n",
       "2              algeria   0.801347  \n",
       "3               angola   0.801136  \n",
       "4  antigua-and-barbuda   0.621622  "
      ]
     },
     "execution_count": 11,
     "metadata": {},
     "output_type": "execute_result"
    }
   ],
   "source": [
    "df.head()"
   ]
  },
  {
   "cell_type": "code",
   "execution_count": 12,
   "metadata": {},
   "outputs": [],
   "source": [
    "df = df[['Country','Region','Overall','home_wins','Release Clause']]"
   ]
  },
  {
   "cell_type": "code",
   "execution_count": 13,
   "metadata": {},
   "outputs": [],
   "source": [
    "from sklearn.preprocessing import StandardScaler\n",
    "\n",
    "def scale(j,col_name):\n",
    "\n",
    "    scaler = StandardScaler()\n",
    "    scaler.fit(np.array(j[col_name]).reshape(-1, 1))\n",
    "    j[col_name] = scaler.transform(np.array(j[col_name]).reshape(-1, 1))\n"
   ]
  },
  {
   "cell_type": "code",
   "execution_count": 14,
   "metadata": {},
   "outputs": [],
   "source": [
    "scale(df,'Overall')\n",
    "scale(df,'home_wins')\n",
    "scale(df,'Release Clause')"
   ]
  },
  {
   "cell_type": "code",
   "execution_count": 17,
   "metadata": {},
   "outputs": [],
   "source": [
    "df['value'] = df.Overall + df.home_wins + df['Release Clause']"
   ]
  },
  {
   "cell_type": "code",
   "execution_count": 18,
   "metadata": {},
   "outputs": [],
   "source": [
    "df = df.rename(columns={'Country':'country', 'Region':'region', 'value':'value'})"
   ]
  },
  {
   "cell_type": "code",
   "execution_count": 19,
   "metadata": {},
   "outputs": [],
   "source": [
    "df = df[['country','region','value']]"
   ]
  },
  {
   "cell_type": "code",
   "execution_count": 22,
   "metadata": {},
   "outputs": [],
   "source": [
    "df.to_csv('countries_v2.csv',index=False)"
   ]
  },
  {
   "cell_type": "code",
   "execution_count": 34,
   "metadata": {},
   "outputs": [
    {
     "data": {
      "text/plain": [
       "UEFA        41\n",
       "CONCACAF    16\n",
       "CAF         13\n",
       "CONMEBOL    10\n",
       "AFC          4\n",
       "Name: Region, dtype: int64"
      ]
     },
     "execution_count": 34,
     "metadata": {},
     "output_type": "execute_result"
    }
   ],
   "source": [
    "country_aggs.Region.value_counts()"
   ]
  },
  {
   "cell_type": "code",
   "execution_count": 31,
   "metadata": {},
   "outputs": [
    {
     "name": "stdout",
     "output_type": "stream",
     "text": [
      "egypt\n",
      "brazil\n",
      "spain\n",
      "portugal\n",
      "france\n",
      "england\n",
      "germany\n",
      "argentina\n",
      "uruguay\n",
      "netherlands\n",
      "senegal\n",
      "italy\n",
      "croatia\n",
      "ivory-coast\n",
      "tunisia\n",
      "mexico\n",
      "morocco\n",
      "serbia\n",
      "russia\n",
      "angola\n",
      "ukraine\n",
      "belgium\n",
      "denmark\n",
      "united-states\n",
      "algeria\n",
      "ghana\n",
      "montenegro\n",
      "switzerland\n",
      "sweden\n",
      "colombia\n",
      "poland\n"
     ]
    }
   ],
   "source": [
    "for name in list(df.sort_values('value',ascending=False)['country'][0:31]):\n",
    "    print(name)\n",
    "    \n",
    "## NOT THE DEFINITIVE LIST"
   ]
  },
  {
   "cell_type": "code",
   "execution_count": null,
   "metadata": {},
   "outputs": [],
   "source": []
  }
 ],
 "metadata": {
  "kernelspec": {
   "display_name": "Python 3",
   "language": "python",
   "name": "python3"
  },
  "language_info": {
   "codemirror_mode": {
    "name": "ipython",
    "version": 3
   },
   "file_extension": ".py",
   "mimetype": "text/x-python",
   "name": "python",
   "nbconvert_exporter": "python",
   "pygments_lexer": "ipython3",
   "version": "3.8.0"
  }
 },
 "nbformat": 4,
 "nbformat_minor": 4
}
