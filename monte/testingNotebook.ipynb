{
 "cells": [
  {
   "cell_type": "code",
   "execution_count": 1,
   "id": "conservative-boards",
   "metadata": {},
   "outputs": [
    {
     "data": {
      "text/html": [
       "<div>\n",
       "<style scoped>\n",
       "    .dataframe tbody tr th:only-of-type {\n",
       "        vertical-align: middle;\n",
       "    }\n",
       "\n",
       "    .dataframe tbody tr th {\n",
       "        vertical-align: top;\n",
       "    }\n",
       "\n",
       "    .dataframe thead th {\n",
       "        text-align: right;\n",
       "    }\n",
       "</style>\n",
       "<table border=\"1\" class=\"dataframe\">\n",
       "  <thead>\n",
       "    <tr style=\"text-align: right;\">\n",
       "      <th></th>\n",
       "      <th>country</th>\n",
       "      <th>region</th>\n",
       "      <th>value</th>\n",
       "    </tr>\n",
       "  </thead>\n",
       "  <tbody>\n",
       "    <tr>\n",
       "      <th>0</th>\n",
       "      <td>Argentina</td>\n",
       "      <td>CONMEBOL</td>\n",
       "      <td>60</td>\n",
       "    </tr>\n",
       "    <tr>\n",
       "      <th>1</th>\n",
       "      <td>Brazil</td>\n",
       "      <td>CONMEBOL</td>\n",
       "      <td>40</td>\n",
       "    </tr>\n",
       "    <tr>\n",
       "      <th>2</th>\n",
       "      <td>Australia</td>\n",
       "      <td>AFC</td>\n",
       "      <td>99</td>\n",
       "    </tr>\n",
       "  </tbody>\n",
       "</table>\n",
       "</div>"
      ],
      "text/plain": [
       "     country    region  value\n",
       "0  Argentina  CONMEBOL     60\n",
       "1     Brazil  CONMEBOL     40\n",
       "2  Australia       AFC     99"
      ]
     },
     "execution_count": 1,
     "metadata": {},
     "output_type": "execute_result"
    }
   ],
   "source": [
    "import pandas as pd\n",
    "df = pd.read_csv(\"tests/resources/teamValueTest.csv\")\n",
    "df"
   ]
  },
  {
   "cell_type": "code",
   "execution_count": 2,
   "id": "civil-tuning",
   "metadata": {},
   "outputs": [
    {
     "data": {
      "text/html": [
       "<div>\n",
       "<style scoped>\n",
       "    .dataframe tbody tr th:only-of-type {\n",
       "        vertical-align: middle;\n",
       "    }\n",
       "\n",
       "    .dataframe tbody tr th {\n",
       "        vertical-align: top;\n",
       "    }\n",
       "\n",
       "    .dataframe thead th {\n",
       "        text-align: right;\n",
       "    }\n",
       "</style>\n",
       "<table border=\"1\" class=\"dataframe\">\n",
       "  <thead>\n",
       "    <tr style=\"text-align: right;\">\n",
       "      <th></th>\n",
       "      <th>country</th>\n",
       "      <th>region</th>\n",
       "      <th>value</th>\n",
       "    </tr>\n",
       "  </thead>\n",
       "  <tbody>\n",
       "    <tr>\n",
       "      <th>0</th>\n",
       "      <td>Argentina</td>\n",
       "      <td>CONMEBOL</td>\n",
       "      <td>0.435730</td>\n",
       "    </tr>\n",
       "    <tr>\n",
       "      <th>1</th>\n",
       "      <td>Brazil</td>\n",
       "      <td>CONMEBOL</td>\n",
       "      <td>0.254481</td>\n",
       "    </tr>\n",
       "    <tr>\n",
       "      <th>2</th>\n",
       "      <td>Australia</td>\n",
       "      <td>AFC</td>\n",
       "      <td>0.791397</td>\n",
       "    </tr>\n",
       "  </tbody>\n",
       "</table>\n",
       "</div>"
      ],
      "text/plain": [
       "     country    region     value\n",
       "0  Argentina  CONMEBOL  0.435730\n",
       "1     Brazil  CONMEBOL  0.254481\n",
       "2  Australia       AFC  0.791397"
      ]
     },
     "execution_count": 2,
     "metadata": {},
     "output_type": "execute_result"
    }
   ],
   "source": [
    "from sklearn.preprocessing import StandardScaler\n",
    "import math\n",
    "scaler = StandardScaler()\n",
    "df.value = scaler.fit_transform(df.value.to_numpy().reshape(-1, 1))\n",
    "df.value = df.value.transform(lambda x: 1 / (1 + math.exp(-x)))\n",
    "df"
   ]
  },
  {
   "cell_type": "code",
   "execution_count": 3,
   "id": "addressed-suite",
   "metadata": {},
   "outputs": [
    {
     "data": {
      "text/html": [
       "<div>\n",
       "<style scoped>\n",
       "    .dataframe tbody tr th:only-of-type {\n",
       "        vertical-align: middle;\n",
       "    }\n",
       "\n",
       "    .dataframe tbody tr th {\n",
       "        vertical-align: top;\n",
       "    }\n",
       "\n",
       "    .dataframe thead th {\n",
       "        text-align: right;\n",
       "    }\n",
       "</style>\n",
       "<table border=\"1\" class=\"dataframe\">\n",
       "  <thead>\n",
       "    <tr style=\"text-align: right;\">\n",
       "      <th></th>\n",
       "      <th>country</th>\n",
       "      <th>region</th>\n",
       "      <th>value</th>\n",
       "    </tr>\n",
       "  </thead>\n",
       "  <tbody>\n",
       "    <tr>\n",
       "      <th>0</th>\n",
       "      <td>Afghanistan</td>\n",
       "      <td>AFC</td>\n",
       "      <td>64.000000</td>\n",
       "    </tr>\n",
       "    <tr>\n",
       "      <th>1</th>\n",
       "      <td>Albania</td>\n",
       "      <td>UEFA</td>\n",
       "      <td>66.547619</td>\n",
       "    </tr>\n",
       "    <tr>\n",
       "      <th>2</th>\n",
       "      <td>Algeria</td>\n",
       "      <td>CAF</td>\n",
       "      <td>71.625000</td>\n",
       "    </tr>\n",
       "    <tr>\n",
       "      <th>3</th>\n",
       "      <td>Andorra</td>\n",
       "      <td>UEFA</td>\n",
       "      <td>63.000000</td>\n",
       "    </tr>\n",
       "    <tr>\n",
       "      <th>4</th>\n",
       "      <td>Angola</td>\n",
       "      <td>CAF</td>\n",
       "      <td>68.333333</td>\n",
       "    </tr>\n",
       "    <tr>\n",
       "      <th>5</th>\n",
       "      <td>Argentina</td>\n",
       "      <td>CONMEBOL</td>\n",
       "      <td>69.613990</td>\n",
       "    </tr>\n",
       "    <tr>\n",
       "      <th>6</th>\n",
       "      <td>Armenia</td>\n",
       "      <td>UEFA</td>\n",
       "      <td>70.000000</td>\n",
       "    </tr>\n",
       "    <tr>\n",
       "      <th>7</th>\n",
       "      <td>Aruba</td>\n",
       "      <td>CONCACAF</td>\n",
       "      <td>68.000000</td>\n",
       "    </tr>\n",
       "    <tr>\n",
       "      <th>8</th>\n",
       "      <td>Australia</td>\n",
       "      <td>AFC</td>\n",
       "      <td>63.055172</td>\n",
       "    </tr>\n",
       "    <tr>\n",
       "      <th>9</th>\n",
       "      <td>Austria</td>\n",
       "      <td>UEFA</td>\n",
       "      <td>66.516260</td>\n",
       "    </tr>\n",
       "    <tr>\n",
       "      <th>10</th>\n",
       "      <td>Azerbaijan</td>\n",
       "      <td>UEFA</td>\n",
       "      <td>59.250000</td>\n",
       "    </tr>\n",
       "    <tr>\n",
       "      <th>11</th>\n",
       "      <td>Bahrain</td>\n",
       "      <td>AFC</td>\n",
       "      <td>71.000000</td>\n",
       "    </tr>\n",
       "    <tr>\n",
       "      <th>12</th>\n",
       "      <td>Belarus</td>\n",
       "      <td>UEFA</td>\n",
       "      <td>65.500000</td>\n",
       "    </tr>\n",
       "    <tr>\n",
       "      <th>13</th>\n",
       "      <td>Belgium</td>\n",
       "      <td>UEFA</td>\n",
       "      <td>67.907801</td>\n",
       "    </tr>\n",
       "    <tr>\n",
       "      <th>14</th>\n",
       "      <td>Belize</td>\n",
       "      <td>CONCACAF</td>\n",
       "      <td>63.000000</td>\n",
       "    </tr>\n",
       "    <tr>\n",
       "      <th>15</th>\n",
       "      <td>Benin</td>\n",
       "      <td>CAF</td>\n",
       "      <td>67.357143</td>\n",
       "    </tr>\n",
       "    <tr>\n",
       "      <th>16</th>\n",
       "      <td>Bermuda</td>\n",
       "      <td>CONCACAF</td>\n",
       "      <td>67.000000</td>\n",
       "    </tr>\n",
       "    <tr>\n",
       "      <th>17</th>\n",
       "      <td>Bolivia</td>\n",
       "      <td>CONMEBOL</td>\n",
       "      <td>63.125000</td>\n",
       "    </tr>\n",
       "    <tr>\n",
       "      <th>18</th>\n",
       "      <td>Brazil</td>\n",
       "      <td>CONMEBOL</td>\n",
       "      <td>72.192355</td>\n",
       "    </tr>\n",
       "  </tbody>\n",
       "</table>\n",
       "</div>"
      ],
      "text/plain": [
       "        country    region      value\n",
       "0   Afghanistan       AFC  64.000000\n",
       "1       Albania      UEFA  66.547619\n",
       "2       Algeria       CAF  71.625000\n",
       "3       Andorra      UEFA  63.000000\n",
       "4        Angola       CAF  68.333333\n",
       "5     Argentina  CONMEBOL  69.613990\n",
       "6       Armenia      UEFA  70.000000\n",
       "7         Aruba  CONCACAF  68.000000\n",
       "8     Australia       AFC  63.055172\n",
       "9       Austria      UEFA  66.516260\n",
       "10   Azerbaijan      UEFA  59.250000\n",
       "11      Bahrain       AFC  71.000000\n",
       "12      Belarus      UEFA  65.500000\n",
       "13      Belgium      UEFA  67.907801\n",
       "14       Belize  CONCACAF  63.000000\n",
       "15        Benin       CAF  67.357143\n",
       "16      Bermuda  CONCACAF  67.000000\n",
       "17      Bolivia  CONMEBOL  63.125000\n",
       "18       Brazil  CONMEBOL  72.192355"
      ]
     },
     "execution_count": 3,
     "metadata": {},
     "output_type": "execute_result"
    }
   ],
   "source": [
    "df = pd.read_csv(\"tests/resources/teamValueTest2.csv\")\n",
    "df"
   ]
  },
  {
   "cell_type": "code",
   "execution_count": 4,
   "id": "attempted-romania",
   "metadata": {},
   "outputs": [
    {
     "data": {
      "text/plain": [
       "['Afghanistan', 'Australia', 'Bahrain']"
      ]
     },
     "execution_count": 4,
     "metadata": {},
     "output_type": "execute_result"
    }
   ],
   "source": [
    "df.loc[df.region == \"AFC\"].country.to_list()"
   ]
  },
  {
   "cell_type": "code",
   "execution_count": 5,
   "id": "three-genetics",
   "metadata": {},
   "outputs": [
    {
     "data": {
      "text/html": [
       "<div>\n",
       "<style scoped>\n",
       "    .dataframe tbody tr th:only-of-type {\n",
       "        vertical-align: middle;\n",
       "    }\n",
       "\n",
       "    .dataframe tbody tr th {\n",
       "        vertical-align: top;\n",
       "    }\n",
       "\n",
       "    .dataframe thead th {\n",
       "        text-align: right;\n",
       "    }\n",
       "</style>\n",
       "<table border=\"1\" class=\"dataframe\">\n",
       "  <thead>\n",
       "    <tr style=\"text-align: right;\">\n",
       "      <th></th>\n",
       "      <th>country</th>\n",
       "      <th>region</th>\n",
       "      <th>value</th>\n",
       "    </tr>\n",
       "  </thead>\n",
       "  <tbody>\n",
       "    <tr>\n",
       "      <th>0</th>\n",
       "      <td>Afghanistan</td>\n",
       "      <td>AFC</td>\n",
       "      <td>64.000000</td>\n",
       "    </tr>\n",
       "    <tr>\n",
       "      <th>1</th>\n",
       "      <td>Albania</td>\n",
       "      <td>UEFA</td>\n",
       "      <td>66.547619</td>\n",
       "    </tr>\n",
       "    <tr>\n",
       "      <th>2</th>\n",
       "      <td>Algeria</td>\n",
       "      <td>CAF</td>\n",
       "      <td>71.625000</td>\n",
       "    </tr>\n",
       "    <tr>\n",
       "      <th>3</th>\n",
       "      <td>Andorra</td>\n",
       "      <td>UEFA</td>\n",
       "      <td>63.000000</td>\n",
       "    </tr>\n",
       "    <tr>\n",
       "      <th>4</th>\n",
       "      <td>Angola</td>\n",
       "      <td>CAF</td>\n",
       "      <td>68.333333</td>\n",
       "    </tr>\n",
       "    <tr>\n",
       "      <th>5</th>\n",
       "      <td>Argentina</td>\n",
       "      <td>CONMEBOL</td>\n",
       "      <td>69.613990</td>\n",
       "    </tr>\n",
       "    <tr>\n",
       "      <th>6</th>\n",
       "      <td>Armenia</td>\n",
       "      <td>UEFA</td>\n",
       "      <td>70.000000</td>\n",
       "    </tr>\n",
       "    <tr>\n",
       "      <th>7</th>\n",
       "      <td>Aruba</td>\n",
       "      <td>CONCACAF</td>\n",
       "      <td>68.000000</td>\n",
       "    </tr>\n",
       "    <tr>\n",
       "      <th>8</th>\n",
       "      <td>Australia</td>\n",
       "      <td>AFC</td>\n",
       "      <td>63.055172</td>\n",
       "    </tr>\n",
       "    <tr>\n",
       "      <th>9</th>\n",
       "      <td>Austria</td>\n",
       "      <td>UEFA</td>\n",
       "      <td>66.516260</td>\n",
       "    </tr>\n",
       "    <tr>\n",
       "      <th>10</th>\n",
       "      <td>Azerbaijan</td>\n",
       "      <td>UEFA</td>\n",
       "      <td>59.250000</td>\n",
       "    </tr>\n",
       "    <tr>\n",
       "      <th>11</th>\n",
       "      <td>Bahrain</td>\n",
       "      <td>AFC</td>\n",
       "      <td>71.000000</td>\n",
       "    </tr>\n",
       "    <tr>\n",
       "      <th>12</th>\n",
       "      <td>Belarus</td>\n",
       "      <td>UEFA</td>\n",
       "      <td>65.500000</td>\n",
       "    </tr>\n",
       "    <tr>\n",
       "      <th>13</th>\n",
       "      <td>Belgium</td>\n",
       "      <td>UEFA</td>\n",
       "      <td>67.907801</td>\n",
       "    </tr>\n",
       "    <tr>\n",
       "      <th>14</th>\n",
       "      <td>Belize</td>\n",
       "      <td>CONCACAF</td>\n",
       "      <td>63.000000</td>\n",
       "    </tr>\n",
       "    <tr>\n",
       "      <th>15</th>\n",
       "      <td>Benin</td>\n",
       "      <td>CAF</td>\n",
       "      <td>67.357143</td>\n",
       "    </tr>\n",
       "    <tr>\n",
       "      <th>16</th>\n",
       "      <td>Bermuda</td>\n",
       "      <td>CONCACAF</td>\n",
       "      <td>67.000000</td>\n",
       "    </tr>\n",
       "    <tr>\n",
       "      <th>17</th>\n",
       "      <td>Bolivia</td>\n",
       "      <td>CONMEBOL</td>\n",
       "      <td>63.125000</td>\n",
       "    </tr>\n",
       "    <tr>\n",
       "      <th>18</th>\n",
       "      <td>Brazil</td>\n",
       "      <td>CONMEBOL</td>\n",
       "      <td>73.192355</td>\n",
       "    </tr>\n",
       "  </tbody>\n",
       "</table>\n",
       "</div>"
      ],
      "text/plain": [
       "        country    region      value\n",
       "0   Afghanistan       AFC  64.000000\n",
       "1       Albania      UEFA  66.547619\n",
       "2       Algeria       CAF  71.625000\n",
       "3       Andorra      UEFA  63.000000\n",
       "4        Angola       CAF  68.333333\n",
       "5     Argentina  CONMEBOL  69.613990\n",
       "6       Armenia      UEFA  70.000000\n",
       "7         Aruba  CONCACAF  68.000000\n",
       "8     Australia       AFC  63.055172\n",
       "9       Austria      UEFA  66.516260\n",
       "10   Azerbaijan      UEFA  59.250000\n",
       "11      Bahrain       AFC  71.000000\n",
       "12      Belarus      UEFA  65.500000\n",
       "13      Belgium      UEFA  67.907801\n",
       "14       Belize  CONCACAF  63.000000\n",
       "15        Benin       CAF  67.357143\n",
       "16      Bermuda  CONCACAF  67.000000\n",
       "17      Bolivia  CONMEBOL  63.125000\n",
       "18       Brazil  CONMEBOL  73.192355"
      ]
     },
     "execution_count": 5,
     "metadata": {},
     "output_type": "execute_result"
    }
   ],
   "source": [
    "df.at[df.loc[df.country == \"Brazil\"].index.item(), \"value\"] += 1\n",
    "df"
   ]
  },
  {
   "cell_type": "code",
   "execution_count": 6,
   "id": "tough-qualification",
   "metadata": {
    "tags": []
   },
   "outputs": [],
   "source": [
    "import itertools\n",
    "pairs = list(itertools.combinations(df.loc[df.region == \"AFC\"].country, 2))"
   ]
  },
  {
   "cell_type": "code",
   "execution_count": 7,
   "id": "parallel-memorial",
   "metadata": {},
   "outputs": [
    {
     "data": {
      "text/plain": [
       "64.0"
      ]
     },
     "execution_count": 7,
     "metadata": {},
     "output_type": "execute_result"
    }
   ],
   "source": [
    "df.loc[df.country == pairs[0][0]].value.item()"
   ]
  },
  {
   "cell_type": "code",
   "execution_count": 8,
   "id": "endangered-customs",
   "metadata": {},
   "outputs": [
    {
     "data": {
      "text/plain": [
       "{'UEFA':    country points\n",
       " 0  America      5\n",
       " 1   France     11\n",
       " 2  Germany      4,\n",
       " 'CONMEBOL': Empty DataFrame\n",
       " Columns: [country, points]\n",
       " Index: [],\n",
       " 'CONCACAF': Empty DataFrame\n",
       " Columns: [country, points]\n",
       " Index: [],\n",
       " 'CAF': Empty DataFrame\n",
       " Columns: [country, points]\n",
       " Index: [],\n",
       " 'AFC': Empty DataFrame\n",
       " Columns: [country, points]\n",
       " Index: [],\n",
       " 'playoffs': Empty DataFrame\n",
       " Columns: [country, points]\n",
       " Index: []}"
      ]
     },
     "execution_count": 8,
     "metadata": {},
     "output_type": "execute_result"
    }
   ],
   "source": [
    "import json\n",
    "f = open(\"tests/resources/qualificationModel.json\",)\n",
    "\n",
    "regions = json.load(f).keys()\n",
    "\n",
    "\n",
    "tableDict = {region:pd.DataFrame([], columns = [\"country\", \"points\"]) for region in regions}\n",
    "countries = [\"America\", \"France\", \"Germany\"]\n",
    "scores = [5, 11, 4] \n",
    "\n",
    "for i in range(3):tableDict[\"UEFA\"] = tableDict[\"UEFA\"].append({\"country\": countries[i], \"points\": scores[i]}, ignore_index=True)\n",
    "tableDict"
   ]
  },
  {
   "cell_type": "code",
   "execution_count": 9,
   "id": "personalized-expense",
   "metadata": {},
   "outputs": [
    {
     "data": {
      "text/plain": [
       "'America'"
      ]
     },
     "execution_count": 9,
     "metadata": {},
     "output_type": "execute_result"
    }
   ],
   "source": [
    "#.sort_values('score',ascending = False).groupby('pidx').head(2)\n",
    "tableDict[\"UEFA\"].sort_values('points',ascending = False).reset_index(drop=True).iloc[1].country"
   ]
  },
  {
   "cell_type": "code",
   "execution_count": 10,
   "id": "competent-client",
   "metadata": {},
   "outputs": [
    {
     "data": {
      "text/plain": [
       "'Aruba'"
      ]
     },
     "execution_count": 10,
     "metadata": {},
     "output_type": "execute_result"
    }
   ],
   "source": [
    "df.at[df.loc[df.country == \"Aruba\"].index.item(), \"region\"] = \"playoffs\"\n",
    "df.loc[df.region == \"playoffs\"].country.item()"
   ]
  },
  {
   "cell_type": "code",
   "execution_count": 14,
   "id": "digital-feelings",
   "metadata": {},
   "outputs": [
    {
     "data": {
      "text/html": [
       "<div>\n",
       "<style scoped>\n",
       "    .dataframe tbody tr th:only-of-type {\n",
       "        vertical-align: middle;\n",
       "    }\n",
       "\n",
       "    .dataframe tbody tr th {\n",
       "        vertical-align: top;\n",
       "    }\n",
       "\n",
       "    .dataframe thead th {\n",
       "        text-align: right;\n",
       "    }\n",
       "</style>\n",
       "<table border=\"1\" class=\"dataframe\">\n",
       "  <thead>\n",
       "    <tr style=\"text-align: right;\">\n",
       "      <th></th>\n",
       "      <th>country</th>\n",
       "      <th>region</th>\n",
       "      <th>value</th>\n",
       "    </tr>\n",
       "  </thead>\n",
       "  <tbody>\n",
       "  </tbody>\n",
       "</table>\n",
       "</div>"
      ],
      "text/plain": [
       "Empty DataFrame\n",
       "Columns: [country, region, value]\n",
       "Index: []"
      ]
     },
     "execution_count": 14,
     "metadata": {},
     "output_type": "execute_result"
    }
   ],
   "source": [
    "tvDF = pd.read_csv(\"src/monte/resources/tvDF.csv\")\n",
    "lst = [\n",
    "    \"american-samoa\",\n",
    "    \"barbados\",\n",
    "    \"benin\",\n",
    "    \"botswana\",\n",
    "    \"cameroon\",\n",
    "    \"cayman-islands\",\n",
    "    \"cuba\",\n",
    "    \"equatorial-guinea\",\n",
    "    \"france\",\n",
    "    \"gibraltar\",\n",
    "    \"guam\",\n",
    "    \"guinea-bissau\",\n",
    "    \"guinea\",\n",
    "    \"india\",\n",
    "    \"iraq\",\n",
    "    \"ivory-coast\",\n",
    "    \"japan\",\n",
    "    \"luxembourg\",\n",
    "    \"malawi\",\n",
    "    \"malaysia\",\n",
    "    \"mali\",\n",
    "    \"mauritius\",\n",
    "    \"niger\",\n",
    "    \"saint-kitts-and-nevis\",\n",
    "    \"saint-vincent-and-the-grenadines\",\n",
    "    \"san-marino\",\n",
    "    \"senegal\",\n",
    "    \"solomon-islands\",\n",
    "    \"south-sudan\",\n",
    "    \"tajikistan\",\n",
    "    \"timor-leste\",\n",
    "    \"togo\",\n",
    "    \"tonga\",\n",
    "    \"turks-and-caicos-islands\",\n",
    "    \"u.s.-virgin-islands\",\n",
    "    \"yemen\"\n",
    "]\n",
    "for c in lst:\n",
    "    tvDF.loc[tvDF.country == \"france\"]"
   ]
  },
  {
   "cell_type": "code",
   "execution_count": 46,
   "id": "southeast-capitol",
   "metadata": {},
   "outputs": [
    {
     "name": "stdout",
     "output_type": "stream",
     "text": [
      "0.33\n",
      "0.33333\n"
     ]
    },
    {
     "data": {
      "text/plain": [
       "{'Brazil'}"
      ]
     },
     "execution_count": 46,
     "metadata": {},
     "output_type": "execute_result"
    }
   ],
   "source": [
    "test = 0.33333\n",
    "print(\"{:.2f}\".format(test))\n",
    "\n",
    "print(f\"{test}\")\n",
    "\n",
    "{\"America\", \"Brazil\"} - {\"America\", \"Agentina\"}"
   ]
  }
 ],
 "metadata": {
  "kernelspec": {
   "display_name": "Python 3.7.3 64-bit ('3.7.3': pyenv)",
   "language": "python",
   "name": "python37364bit373pyenv12eac4732f2b43a1b4568d3c81d03fef"
  },
  "language_info": {
   "codemirror_mode": {
    "name": "ipython",
    "version": 3
   },
   "file_extension": ".py",
   "mimetype": "text/x-python",
   "name": "python",
   "nbconvert_exporter": "python",
   "pygments_lexer": "ipython3",
   "version": "3.7.3"
  }
 },
 "nbformat": 4,
 "nbformat_minor": 5
}
